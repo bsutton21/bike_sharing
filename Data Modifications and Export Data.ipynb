{
 "cells": [
  {
   "cell_type": "markdown",
   "id": "1d3b9df1",
   "metadata": {},
   "source": [
    "# Testing the Export Functionality"
   ]
  },
  {
   "cell_type": "code",
   "execution_count": 1,
   "id": "9a5deaa1",
   "metadata": {},
   "outputs": [],
   "source": [
    "import pandas as pd\n",
    "import numpy as np\n",
    "import datetime"
   ]
  },
  {
   "cell_type": "code",
   "execution_count": 4,
   "id": "4e5a8011",
   "metadata": {},
   "outputs": [],
   "source": [
    "bike = pd.read_csv(\"BikeData.csv\")"
   ]
  },
  {
   "cell_type": "code",
   "execution_count": null,
   "id": "de056644",
   "metadata": {},
   "outputs": [],
   "source": [
    "bike[\"Date\"][1]"
   ]
  },
  {
   "cell_type": "markdown",
   "id": "54c676bb",
   "metadata": {},
   "source": [
    "## Modifying the data for the predictions\n",
    "\n",
    "The data visualization portion doesn't require as much modification, as I can just choose which columns to use without converting their data types or tranforming them with ColumnTransformer.  I performed all necessary modification in the Visualizations notebook"
   ]
  },
  {
   "cell_type": "code",
   "execution_count": 39,
   "id": "ed50e837",
   "metadata": {
    "scrolled": true
   },
   "outputs": [
    {
     "name": "stderr",
     "output_type": "stream",
     "text": [
      "/var/folders/6n/r0mykfwn6tn5_cbb6h96dln00000gn/T/ipykernel_65957/3228974433.py:10: SettingWithCopyWarning: \n",
      "A value is trying to be set on a copy of a slice from a DataFrame\n",
      "\n",
      "See the caveats in the documentation: https://pandas.pydata.org/pandas-docs/stable/user_guide/indexing.html#returning-a-view-versus-a-copy\n",
      "  bike[\"Date\"][i] = datetime.datetime.strptime(bike[\"Date\"][i], \"%d/%m/%Y\").date()\n",
      "/var/folders/6n/r0mykfwn6tn5_cbb6h96dln00000gn/T/ipykernel_65957/3228974433.py:14: SettingWithCopyWarning: \n",
      "A value is trying to be set on a copy of a slice from a DataFrame\n",
      "\n",
      "See the caveats in the documentation: https://pandas.pydata.org/pandas-docs/stable/user_guide/indexing.html#returning-a-view-versus-a-copy\n",
      "  bike[\"Seasons\"][i] = 1\n",
      "/var/folders/6n/r0mykfwn6tn5_cbb6h96dln00000gn/T/ipykernel_65957/3228974433.py:24: SettingWithCopyWarning: \n",
      "A value is trying to be set on a copy of a slice from a DataFrame\n",
      "\n",
      "See the caveats in the documentation: https://pandas.pydata.org/pandas-docs/stable/user_guide/indexing.html#returning-a-view-versus-a-copy\n",
      "  bike[\"Holiday\"][i] = 0\n",
      "/var/folders/6n/r0mykfwn6tn5_cbb6h96dln00000gn/T/ipykernel_65957/3228974433.py:30: SettingWithCopyWarning: \n",
      "A value is trying to be set on a copy of a slice from a DataFrame\n",
      "\n",
      "See the caveats in the documentation: https://pandas.pydata.org/pandas-docs/stable/user_guide/indexing.html#returning-a-view-versus-a-copy\n",
      "  bike[\"Functioning Day\"][i] = 1\n",
      "/var/folders/6n/r0mykfwn6tn5_cbb6h96dln00000gn/T/ipykernel_65957/3228974433.py:26: SettingWithCopyWarning: \n",
      "A value is trying to be set on a copy of a slice from a DataFrame\n",
      "\n",
      "See the caveats in the documentation: https://pandas.pydata.org/pandas-docs/stable/user_guide/indexing.html#returning-a-view-versus-a-copy\n",
      "  bike[\"Holiday\"][i] = 1\n",
      "/var/folders/6n/r0mykfwn6tn5_cbb6h96dln00000gn/T/ipykernel_65957/3228974433.py:16: SettingWithCopyWarning: \n",
      "A value is trying to be set on a copy of a slice from a DataFrame\n",
      "\n",
      "See the caveats in the documentation: https://pandas.pydata.org/pandas-docs/stable/user_guide/indexing.html#returning-a-view-versus-a-copy\n",
      "  bike[\"Seasons\"][i] = 2\n",
      "/var/folders/6n/r0mykfwn6tn5_cbb6h96dln00000gn/T/ipykernel_65957/3228974433.py:32: SettingWithCopyWarning: \n",
      "A value is trying to be set on a copy of a slice from a DataFrame\n",
      "\n",
      "See the caveats in the documentation: https://pandas.pydata.org/pandas-docs/stable/user_guide/indexing.html#returning-a-view-versus-a-copy\n",
      "  bike[\"Functioning Day\"][i] = 0\n",
      "/var/folders/6n/r0mykfwn6tn5_cbb6h96dln00000gn/T/ipykernel_65957/3228974433.py:18: SettingWithCopyWarning: \n",
      "A value is trying to be set on a copy of a slice from a DataFrame\n",
      "\n",
      "See the caveats in the documentation: https://pandas.pydata.org/pandas-docs/stable/user_guide/indexing.html#returning-a-view-versus-a-copy\n",
      "  bike[\"Seasons\"][i] = 3\n",
      "/var/folders/6n/r0mykfwn6tn5_cbb6h96dln00000gn/T/ipykernel_65957/3228974433.py:20: SettingWithCopyWarning: \n",
      "A value is trying to be set on a copy of a slice from a DataFrame\n",
      "\n",
      "See the caveats in the documentation: https://pandas.pydata.org/pandas-docs/stable/user_guide/indexing.html#returning-a-view-versus-a-copy\n",
      "  bike[\"Seasons\"][i] = 4\n"
     ]
    }
   ],
   "source": [
    "bike = pd.read_csv(\"BikeData.csv\")\n",
    "\n",
    "# Splitting data into day, month, year columns and saving to bike2\n",
    "bike2 = bike.Date.str.split(\"/\", expand=True)\n",
    "bike2.rename(columns = {0:'Day', 1:'Month', 2:'Year'}, inplace=True)\n",
    "\n",
    "for i in range(0, len(bike[\"Date\"])):\n",
    "    \n",
    "    # Reformatting the data in the \"Date\" column from dd/mm/yyyy to mm/dd/yyyy\n",
    "    bike[\"Date\"][i] = datetime.datetime.strptime(bike[\"Date\"][i], \"%d/%m/%Y\").date()\n",
    "    \n",
    "    # Converting the season strings to int\n",
    "    if bike[\"Seasons\"][i] == \"Winter\":\n",
    "        bike[\"Seasons\"][i] = 1\n",
    "    elif bike[\"Seasons\"][i] == \"Spring\":\n",
    "        bike[\"Seasons\"][i] = 2\n",
    "    elif bike[\"Seasons\"][i] == \"Summer\":\n",
    "        bike[\"Seasons\"][i] = 3\n",
    "    elif bike[\"Seasons\"][i] == \"Autumn\":\n",
    "        bike[\"Seasons\"][i] = 4\n",
    "        \n",
    "    # Converting the holiday strings to int    \n",
    "    if bike[\"Holiday\"][i] == \"No Holiday\":\n",
    "        bike[\"Holiday\"][i] = 0\n",
    "    elif bike[\"Holiday\"][i] == \"Holiday\":\n",
    "        bike[\"Holiday\"][i] = 1\n",
    "        \n",
    "    # Converting the functioning day strings to int\n",
    "    if bike[\"Functioning Day\"][i] == \"Yes\":\n",
    "        bike[\"Functioning Day\"][i] = 1\n",
    "    elif bike[\"Functioning Day\"][i] == \"No\":\n",
    "        bike[\"Functioning Day\"][i] = 0\n",
    "\n",
    "# Creating pd dataframe with dictionary of Day: Hour\n",
    "dt_df = pd.DataFrame({\n",
    "    'Day': np.array(bike[\"Date\"]), \n",
    "    'Hour': np.array(bike[\"Hour\"])})\n",
    "\n",
    "# Combining the \"Date\" and \"Hour\" data from each row into one cell in the \"Datetime\" column\n",
    "bike[\"Datetime\"] = pd.to_datetime(dt_df.Day) + pd.to_timedelta(dt_df.Hour, unit='h')\n",
    "\n",
    "# Adding Precipitation boolean column - \"True\" if either \"Rainfall (mm)\" or \"Snowfall (cm)\" are greater than 0\n",
    "bike[\"Precipitation\"] = np.where((bike['Rainfall (mm)'] > 0) | (bike['Snowfall (cm)'] > 0), 1, 0)\n",
    "\n",
    "bike = pd.concat([bike, bike2], axis=1)\n",
    "\n",
    "# Return bike with new \"Datetime\" and \"Precipitation\" columns\n",
    "bike.to_csv(\"BikeDataExpanded.csv\", index=False)"
   ]
  },
  {
   "cell_type": "code",
   "execution_count": 40,
   "id": "e27be3d5",
   "metadata": {},
   "outputs": [],
   "source": [
    "# Dropping unnecessary columns\n",
    "bike_predict = bike.drop([\"Date\", \"Wind speed (m/s)\", \"Visibility (10m)\", \"Dew point temperature (C)\", \"Solar Radiation (MJ/m2)\", \"Rainfall (mm)\", \"Snowfall (cm)\", \"Datetime\"], axis=1)\n",
    "bike_predict.head()\n",
    "bike_predict.to_csv(\"prediction_data.csv\", index=False)"
   ]
  },
  {
   "cell_type": "code",
   "execution_count": null,
   "id": "83ab681c",
   "metadata": {},
   "outputs": [],
   "source": []
  }
 ],
 "metadata": {
  "kernelspec": {
   "display_name": "Python 3 (ipykernel)",
   "language": "python",
   "name": "python3"
  },
  "language_info": {
   "codemirror_mode": {
    "name": "ipython",
    "version": 3
   },
   "file_extension": ".py",
   "mimetype": "text/x-python",
   "name": "python",
   "nbconvert_exporter": "python",
   "pygments_lexer": "ipython3",
   "version": "3.9.7"
  }
 },
 "nbformat": 4,
 "nbformat_minor": 5
}
